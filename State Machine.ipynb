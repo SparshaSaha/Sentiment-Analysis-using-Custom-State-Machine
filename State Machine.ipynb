{
 "cells": [
  {
   "cell_type": "code",
   "execution_count": 37,
   "metadata": {},
   "outputs": [],
   "source": [
    "from nltk.corpus import wordnet as wn\n",
    "from pprint import pprint\n",
    "import nltk\n",
    "from nltk.corpus import brown"
   ]
  },
  {
   "cell_type": "markdown",
   "metadata": {},
   "source": [
    "## Defining the State Machine Graph"
   ]
  },
  {
   "cell_type": "code",
   "execution_count": 38,
   "metadata": {},
   "outputs": [
    {
     "name": "stdout",
     "output_type": "stream",
     "text": [
      "[[1, 1, 0, 0, 0, 0, 0],\n",
      " [0, 1, 1, 1, 1, 1, 0],\n",
      " [0, 1, 1, 0, 0, 1, 1],\n",
      " [0, 1, 1, 1, 1, 1, 1],\n",
      " [0, 1, 0, 0, 1, 1, 1],\n",
      " [0, 0, 0, 0, 0, 1, 1],\n",
      " [1, 0, 0, 0, 0, 0, 0]]\n"
     ]
    }
   ],
   "source": [
    "DAG=[\n",
    "    [1,1,0,0,0,0,0],\n",
    "    [0,1,1,1,1,1,0],\n",
    "    [0,1,1,0,0,1,1],\n",
    "    [0,1,1,1,1,1,1],\n",
    "    [0,1,0,0,1,1,1],\n",
    "    [0,0,0,0,0,1,1],\n",
    "    [1,0,0,0,0,0,0]\n",
    "]\n",
    "pprint(DAG)"
   ]
  },
  {
   "cell_type": "markdown",
   "metadata": {},
   "source": [
    "## Preprocess The Sentence to remove Articles, Prepositions "
   ]
  },
  {
   "cell_type": "code",
   "execution_count": 56,
   "metadata": {},
   "outputs": [
    {
     "name": "stdout",
     "output_type": "stream",
     "text": [
      "'The good guy is playing football'\n",
      "['good', 'guy', 'is', 'playing', 'football']\n"
     ]
    }
   ],
   "source": [
    "preposition=['in','on','at','under','of','off']\n",
    "\n",
    "sentence='The good guy is playing football'\n",
    "pprint(sentence)\n",
    "\n",
    "#Extract words from sentence\n",
    "words=sentence.split(' ')\n",
    "\n",
    "new_word=[]\n",
    "for i in words:\n",
    "    if i=='The'or i=='a' or i=='the' or i=='A'or i in preposition:\n",
    "        new_word=new_word\n",
    "    else:\n",
    "        new_word.append(i)\n",
    "pprint(new_word)"
   ]
  },
  {
   "cell_type": "markdown",
   "metadata": {},
   "source": [
    "## GetIndex for patricular type of Word"
   ]
  },
  {
   "cell_type": "code",
   "execution_count": 57,
   "metadata": {},
   "outputs": [],
   "source": [
    "def get_index_for_word(word):\n",
    "    if word=='verb':\n",
    "        return 1\n",
    "    elif word=='adjective':\n",
    "        return 3\n",
    "    elif word=='noun':\n",
    "        return 4\n",
    "    elif word=='adverb':\n",
    "        return 5\n",
    "    elif word=='conjunction':\n",
    "        return 6"
   ]
  },
  {
   "cell_type": "markdown",
   "metadata": {},
   "source": [
    "## Feed sentence into State machine"
   ]
  },
  {
   "cell_type": "code",
   "execution_count": 58,
   "metadata": {},
   "outputs": [
    {
     "name": "stdout",
     "output_type": "stream",
     "text": [
      "3\n"
     ]
    }
   ],
   "source": [
    "noun_ind=['NN','NR']\n",
    "verb_ind=['VBG','BEZ']\n",
    "adj_in=['JJ']\n",
    "pos_word=['good','beautiful','awesome']\n",
    "neg_word=['bad','worst','ruthless']\n",
    "#Get type of word for first word\n",
    "table = nltk.FreqDist(t for w, t in brown.tagged_words() if w.lower() == new_word[0].lower())\n",
    "k=table.most_common()[0][0]\n",
    "\n",
    "first_index=0\n",
    "index_new_word=0\n",
    "\n",
    "if k in noun_ind:\n",
    "    first_index=0\n",
    "elif k in adj_in:\n",
    "    first_index=get_index_for_word('adjective')\n",
    "    index_new_word+=1\n",
    "\n",
    "print(first_index)"
   ]
  },
  {
   "cell_type": "code",
   "execution_count": null,
   "metadata": {},
   "outputs": [],
   "source": [
    "for index_new_word"
   ]
  }
 ],
 "metadata": {
  "kernelspec": {
   "display_name": "Python 2",
   "language": "python",
   "name": "python2"
  },
  "language_info": {
   "codemirror_mode": {
    "name": "ipython",
    "version": 2
   },
   "file_extension": ".py",
   "mimetype": "text/x-python",
   "name": "python",
   "nbconvert_exporter": "python",
   "pygments_lexer": "ipython2",
   "version": "2.7.12+"
  }
 },
 "nbformat": 4,
 "nbformat_minor": 2
}
