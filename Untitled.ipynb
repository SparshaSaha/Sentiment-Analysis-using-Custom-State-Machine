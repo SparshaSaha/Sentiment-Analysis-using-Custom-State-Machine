{
 "cells": [
  {
   "cell_type": "code",
   "execution_count": 23,
   "metadata": {},
   "outputs": [],
   "source": [
    "from nltk.corpus import wordnet as wn\n",
    "from pprint import pprint\n",
    "import nltk"
   ]
  },
  {
   "cell_type": "markdown",
   "metadata": {},
   "source": [
    "## Defining the State Machine Graph"
   ]
  },
  {
   "cell_type": "code",
   "execution_count": 24,
   "metadata": {},
   "outputs": [
    {
     "name": "stdout",
     "output_type": "stream",
     "text": [
      "[[1, 1, 0, 0, 0, 0, 0],\n",
      " [0, 1, 1, 1, 1, 1, 0],\n",
      " [0, 0, 1, 0, 0, 1, 1],\n",
      " [0, 0, 1, 1, 1, 1, 1],\n",
      " [0, 0, 0, 0, 1, 1, 1],\n",
      " [0, 0, 0, 0, 0, 1, 1],\n",
      " [1, 0, 0, 0, 0, 0, 0]]\n"
     ]
    }
   ],
   "source": [
    "DAG=[\n",
    "    [1,1,0,0,0,0,0],\n",
    "    [0,1,1,1,1,1,0],\n",
    "    [0,0,1,0,0,1,1],\n",
    "    [0,0,1,1,1,1,1],\n",
    "    [0,0,0,0,1,1,1],\n",
    "    [0,0,0,0,0,1,1],\n",
    "    [1,0,0,0,0,0,0]\n",
    "]\n",
    "pprint(DAG)"
   ]
  },
  {
   "cell_type": "markdown",
   "metadata": {},
   "source": [
    "## Preprocess The Sentence to remove Articles, Prepositions "
   ]
  },
  {
   "cell_type": "code",
   "execution_count": 28,
   "metadata": {},
   "outputs": [
    {
     "name": "stdout",
     "output_type": "stream",
     "text": [
      "'The guy is watching a tv series at home'\n",
      "['guy', 'is', 'watching', 'tv', 'series', 'home']\n"
     ]
    }
   ],
   "source": [
    "preposition=['in','on','at','under','of','off']\n",
    "\n",
    "sentence='The guy is watching a tv series at home'\n",
    "pprint(sentence)\n",
    "\n",
    "#Extract words from sentence\n",
    "words=sentence.split(' ')\n",
    "\n",
    "new_word=[]\n",
    "for i in words:\n",
    "    if i=='The'or i=='a' or i=='the' or i=='A'or i in preposition:\n",
    "        new_word=new_word\n",
    "    else:\n",
    "        new_word.append(i)\n",
    "pprint(new_word)"
   ]
  },
  {
   "cell_type": "markdown",
   "metadata": {},
   "source": [
    "## Feed sentence into turing machine"
   ]
  },
  {
   "cell_type": "code",
   "execution_count": null,
   "metadata": {},
   "outputs": [],
   "source": []
  }
 ],
 "metadata": {
  "kernelspec": {
   "display_name": "Python 2",
   "language": "python",
   "name": "python2"
  },
  "language_info": {
   "codemirror_mode": {
    "name": "ipython",
    "version": 2
   },
   "file_extension": ".py",
   "mimetype": "text/x-python",
   "name": "python",
   "nbconvert_exporter": "python",
   "pygments_lexer": "ipython2",
   "version": "2.7.12+"
  }
 },
 "nbformat": 4,
 "nbformat_minor": 2
}
