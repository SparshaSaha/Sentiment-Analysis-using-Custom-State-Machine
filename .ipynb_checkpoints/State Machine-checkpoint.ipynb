{
 "cells": [
  {
   "cell_type": "code",
   "execution_count": 258,
   "metadata": {},
   "outputs": [],
   "source": [
    "from nltk.corpus import wordnet as wn\n",
    "from pprint import pprint\n",
    "import nltk\n",
    "from nltk.corpus import brown"
   ]
  },
  {
   "cell_type": "markdown",
   "metadata": {},
   "source": [
    "## Defining the State Machine Graph"
   ]
  },
  {
   "cell_type": "code",
   "execution_count": 259,
   "metadata": {},
   "outputs": [
    {
     "name": "stdout",
     "output_type": "stream",
     "text": [
      "[[1, 1, 0, 0, 0, 0, 0],\n",
      " [0, 1, 1, 1, 1, 1, 0],\n",
      " [0, 1, 1, 0, 0, 1, 1],\n",
      " [0, 1, 1, 1, 1, 1, 1],\n",
      " [0, 1, 0, 0, 1, 1, 1],\n",
      " [0, 0, 0, 0, 0, 1, 1],\n",
      " [1, 0, 0, 0, 0, 0, 0]]\n"
     ]
    }
   ],
   "source": [
    "DAG=[\n",
    "    [1,1,0,0,0,0,0],\n",
    "    [0,1,1,1,1,1,0],\n",
    "    [0,1,1,0,0,1,1],\n",
    "    [0,1,1,1,1,1,1],\n",
    "    [0,1,0,0,1,1,1],\n",
    "    [0,0,0,0,0,1,1],\n",
    "    [1,0,0,0,0,0,0]\n",
    "]\n",
    "pprint(DAG)"
   ]
  },
  {
   "cell_type": "markdown",
   "metadata": {},
   "source": [
    "## Preprocess The Sentence to remove Articles, Prepositions "
   ]
  },
  {
   "cell_type": "code",
   "execution_count": 281,
   "metadata": {},
   "outputs": [
    {
     "name": "stdout",
     "output_type": "stream",
     "text": [
      "['Bus', 'Driver', 'pulls', 'incredible', 'move']\n"
     ]
    }
   ],
   "source": [
    "preposition=['in','on','at','under','of','off']\n",
    "\n",
    "sentence='Bus Driver pulls off incredible move'\n",
    "\n",
    "#Extract words from sentence\n",
    "words=sentence.split(' ')\n",
    "\n",
    "new_word=[]\n",
    "for i in words:\n",
    "    if i=='The'or i=='a' or i=='the' or i=='A'or i=='An' or i=='an' or i in preposition:\n",
    "        new_word=new_word\n",
    "    else:\n",
    "        new_word.append(i)\n",
    "pprint(new_word)"
   ]
  },
  {
   "cell_type": "markdown",
   "metadata": {},
   "source": [
    "## GetIndex for patricular type of Word"
   ]
  },
  {
   "cell_type": "code",
   "execution_count": 282,
   "metadata": {},
   "outputs": [],
   "source": [
    "def get_index_for_word(word):\n",
    "    if word=='verb':\n",
    "        return 1\n",
    "    elif word=='adjective':\n",
    "        return 3\n",
    "    elif word=='noun':\n",
    "        return 4\n",
    "    elif word=='adverb':\n",
    "        return 5\n",
    "    elif word=='conjunction':\n",
    "        return 6\n",
    "    else:\n",
    "        return 1"
   ]
  },
  {
   "cell_type": "markdown",
   "metadata": {},
   "source": [
    "## Define data variables"
   ]
  },
  {
   "cell_type": "code",
   "execution_count": 283,
   "metadata": {},
   "outputs": [],
   "source": [
    "noun_ind=['NN','NR']\n",
    "verb_ind=['VBG','BEZ']\n",
    "adj_in=['JJ']\n",
    "pos_word=['good','beautiful','awesome']\n",
    "neg_word=['bad','worst','ruthless','forget']\n"
   ]
  },
  {
   "cell_type": "code",
   "execution_count": 284,
   "metadata": {},
   "outputs": [],
   "source": [
    "def get_type(word):\n",
    "    table = nltk.FreqDist(t for w, t in brown.tagged_words() if w.lower() == word.lower())\n",
    "    k=table.most_common()[0][0]\n",
    "    #print(word+str(':')+str(k))\n",
    "    if k in noun_ind:\n",
    "        return 'noun'\n",
    "    elif k in verb_ind:\n",
    "        return 'verb'\n",
    "    elif k in adj_in:\n",
    "        return 'adjective'"
   ]
  },
  {
   "cell_type": "code",
   "execution_count": 285,
   "metadata": {},
   "outputs": [],
   "source": [
    "def get_polarity(word):\n",
    "    if word.lower() in neg_word:\n",
    "        return -1\n",
    "    else:\n",
    "        return 1"
   ]
  },
  {
   "cell_type": "markdown",
   "metadata": {},
   "source": [
    "## Feed sentence into State machine"
   ]
  },
  {
   "cell_type": "code",
   "execution_count": 286,
   "metadata": {},
   "outputs": [
    {
     "name": "stdout",
     "output_type": "stream",
     "text": [
      "1\n",
      "1\n",
      "1\n"
     ]
    }
   ],
   "source": [
    "prev_pol=1\n",
    "mypol=1\n",
    "ind_pol=1\n",
    "polarity_final=1\n",
    "\n",
    "first_index=1\n",
    "index_new_word=0\n",
    "while new_word[index_new_word]=='not':\n",
    "    index_new_word+=1\n",
    "    ind_pol*=-1\n",
    "\n",
    "#Get type of word for first word\n",
    "table = nltk.FreqDist(t for w, t in brown.tagged_words() if w.lower() == new_word[index_new_word].lower())\n",
    "k=table.most_common()[0][0]\n",
    "\n",
    "print(ind_pol)\n",
    "if k in noun_ind:\n",
    "    first_index=first_index\n",
    "elif k in adj_in:\n",
    "    first_index=get_index_for_word('adjective')\n",
    "    prev_pol=ind_pol*get_polarity(new_word[index_new_word])\n",
    "    index_new_word+=1\n",
    "    ind_pol=1\n",
    "    mypol=1\n",
    "print(prev_pol)\n",
    "print(first_index)"
   ]
  },
  {
   "cell_type": "code",
   "execution_count": 287,
   "metadata": {},
   "outputs": [
    {
     "name": "stdout",
     "output_type": "stream",
     "text": [
      "Bus: 1\n",
      "Driver: 1\n",
      "pulls: 1\n",
      "incredible: 1\n",
      "move: 1\n",
      "positive\n"
     ]
    }
   ],
   "source": [
    "\n",
    "for i in range(index_new_word,len(new_word)):\n",
    "    type_word=get_type(new_word[i])\n",
    "    z=get_index_for_word(type_word)\n",
    "    if new_word[i]== 'not':\n",
    "        ind_pol=-1\n",
    "    else:\n",
    "        mypol=get_polarity(new_word[i])\n",
    "        if DAG[first_index][z]==1:\n",
    "            first_index=z\n",
    "            temp_pol=ind_pol*mypol\n",
    "            if type_word!='adjective':\n",
    "                fin_pol=prev_pol*temp_pol\n",
    "            else:\n",
    "                fin_pol=mypol*ind_pol\n",
    "            prev_pol=fin_pol\n",
    "            mypol=1\n",
    "            ind_pol=1\n",
    "            \n",
    "        else:\n",
    "            print('cannot determine')\n",
    "            break\n",
    "    print(new_word[i]+': '+str(prev_pol))\n",
    "        \n",
    "        \n",
    "if prev_pol==-1:\n",
    "    print('negative')\n",
    "else:\n",
    "    print('positive')\n"
   ]
  },
  {
   "cell_type": "code",
   "execution_count": null,
   "metadata": {},
   "outputs": [],
   "source": []
  }
 ],
 "metadata": {
  "kernelspec": {
   "display_name": "Python 2",
   "language": "python",
   "name": "python2"
  },
  "language_info": {
   "codemirror_mode": {
    "name": "ipython",
    "version": 2
   },
   "file_extension": ".py",
   "mimetype": "text/x-python",
   "name": "python",
   "nbconvert_exporter": "python",
   "pygments_lexer": "ipython2",
   "version": "2.7.12+"
  }
 },
 "nbformat": 4,
 "nbformat_minor": 2
}
